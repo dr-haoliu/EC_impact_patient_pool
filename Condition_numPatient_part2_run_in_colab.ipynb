{
 "cells": [
  {
   "cell_type": "code",
   "execution_count": 4,
   "metadata": {},
   "outputs": [],
   "source": [
    "import pandas as pd\n",
    "import numpy as np\n",
    "import sys\n",
    "import pickle\n",
    "import networkx as nx\n",
    "import matplotlib.pyplot as plt\n",
    "from networkx.drawing.nx_agraph import graphviz_layout\n",
    "import graphviz\n",
    "from networkx.readwrite import json_graph"
   ]
  },
  {
   "cell_type": "code",
   "execution_count": null,
   "metadata": {},
   "outputs": [],
   "source": [
    "!apt install libgraphviz-dev\n",
    "!pip install pygraphviz"
   ]
  },
  {
   "cell_type": "code",
   "execution_count": 3,
   "metadata": {},
   "outputs": [],
   "source": [
    "condition_ids = [313217]#, 317576, 314658, 314665]"
   ]
  },
  {
   "cell_type": "code",
   "execution_count": 2,
   "metadata": {},
   "outputs": [],
   "source": [
    "def save_obj(obj, name):\n",
    "    with open(''+ name + '.pkl', 'wb') as f:\n",
    "        pickle.dump(obj, f, pickle.HIGHEST_PROTOCOL)\n",
    "\n",
    "def load_obj(name):\n",
    "    with open('' + name + '.pkl', 'rb') as f:\n",
    "        return pickle.load(f)"
   ]
  },
  {
   "cell_type": "code",
   "execution_count": null,
   "metadata": {},
   "outputs": [],
   "source": [
    "for condition_id in condition_ids:\n",
    "    DG = load_obj(\"DG_top_\"+str(TOP_M_PATTERNS)+\"_condition_\"+str(condition_id))\n",
    "    color_values = [DG.nodes[node]['color'] for node in DG.nodes()]\n",
    "    count_list = list(map(lambda x: DG.nodes[x]['count'],DG.nodes()))\n",
    "    count_min = np.min(count_list)\n",
    "    count_max = np.max(count_list)\n",
    "    nodes_size = []\n",
    "      #for node in DG.nodes():\n",
    "        #count = DG.nodes[node]['count']\n",
    "      #nodes_size = [3000*np.log(DG.nodes[node]['count']+1) for node in DG.nodes()]\n",
    "    nodes_size = [(DG.nodes[node]['count']-count_min)*(100000-2000)/(count_max-count_min)+2000 for node in DG.nodes()]\n",
    "    fig,ax=plt.subplots(1,1,figsize=(150, 150))\n",
    "    pos = graphviz_layout(DG) #pos=nx.spring_layout(DG) # \n",
    "    nodes_count = nx.get_node_attributes(DG, 'count') \n",
    "    nodes_relative_freq = nx.get_node_attributes(DG, 'relative frequency')\n",
    "    nodes_label_name = nx.get_node_attributes(DG, 'names')\n",
    "    nodes_label = {}\n",
    "    for key, value in nodes_label_name.items():\n",
    "        if key != \"root\":\n",
    "            nodes_label[key] = value+\": \"+ str(nodes_relative_freq[key])#\n",
    "        else:\n",
    "            nodes_label[key] = value\n",
    "\n",
    "    nodelist = nodes_label.keys()\n",
    "    nx.draw_networkx(DG,pos,node_color=color_values,labels=nodes_label, with_labels=True,\n",
    "                       arrowsize=50, font_size=32,\n",
    "                       node_size=nodes_size,font_weight='bold')\n",
    "    edge_labels = nx.get_edge_attributes(DG,'weight')\n",
    "    nx.draw_networkx_edge_labels(DG,pos,edge_labels=edge_labels,font_size=32,font_weight='bold')\n",
    "    #plt.show()\n",
    "    plt.savefig(str(condition_id)+'.png')"
   ]
  }
 ],
 "metadata": {
  "kernelspec": {
   "display_name": "Python 3",
   "language": "python",
   "name": "python3"
  },
  "language_info": {
   "codemirror_mode": {
    "name": "ipython",
    "version": 3
   },
   "file_extension": ".py",
   "mimetype": "text/x-python",
   "name": "python",
   "nbconvert_exporter": "python",
   "pygments_lexer": "ipython3",
   "version": "3.7.6"
  }
 },
 "nbformat": 4,
 "nbformat_minor": 4
}
